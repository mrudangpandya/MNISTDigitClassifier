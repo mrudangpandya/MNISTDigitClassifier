{
  "nbformat": 4,
  "nbformat_minor": 0,
  "metadata": {
    "colab": {
      "name": "MnistDigitClassificationTensorflow.ipynb",
      "version": "0.3.2",
      "provenance": [],
      "collapsed_sections": []
    },
    "kernelspec": {
      "display_name": "Python 3",
      "language": "python",
      "name": "python3"
    },
    "accelerator": "TPU"
  },
  "cells": [
    {
      "metadata": {
        "id": "EqoDb9n8Cvfb",
        "colab_type": "text"
      },
      "cell_type": "markdown",
      "source": [
        "<h1>Digit Recognizer using Tensorflow on MNIST Dataset</h1>"
      ]
    },
    {
      "metadata": {
        "id": "jSrI__h0C4e8",
        "colab_type": "text"
      },
      "cell_type": "markdown",
      "source": [
        "The MNIST dataset is one of the most common datasets used for image classification and accessible from many different sources. In fact, even Tensorflow and Keras allow us to import and download the MNIST dataset directly from their API. Therefore, I will start with the following two lines to import tensorflow and MNIST dataset under the Keras API."
      ]
    },
    {
      "metadata": {
        "id": "Wfo55UkKCvfh",
        "colab_type": "code",
        "colab": {}
      },
      "cell_type": "code",
      "source": [
        "import tensorflow as tf\n",
        "import matplotlib.pyplot as plt"
      ],
      "execution_count": 0,
      "outputs": []
    },
    {
      "metadata": {
        "id": "NSXG5eo4Cvfo",
        "colab_type": "text"
      },
      "cell_type": "markdown",
      "source": [
        "<p>The MNIST database contains 60,000 training images and 10,000 testing images taken from American Census Bureau employees and American high school students [4]. Therefore, in the second line, I have separated these two groups as train and test and also separated the labels and the images. x_train and x_test parts contain greyscale RGB codes (from 0 to 255) while y_train and y_test parts contains labels from 0 to 9 which represents which number they actually are. To visualize these numbers, we can get help from matplotlib.\n",
        "</p>\n"
      ]
    },
    {
      "metadata": {
        "id": "BD3lPx93Cvfp",
        "colab_type": "code",
        "colab": {}
      },
      "cell_type": "code",
      "source": [
        ""
      ],
      "execution_count": 0,
      "outputs": []
    },
    {
      "metadata": {
        "colab_type": "code",
        "id": "d_MXUqsVhCad",
        "colab": {}
      },
      "cell_type": "code",
      "source": [
        "(X_train, y_train),(X_test,y_test) = tf.keras.datasets.mnist.load_data()"
      ],
      "execution_count": 0,
      "outputs": []
    },
    {
      "metadata": {
        "colab_type": "text",
        "id": "IqZPETIb8Jti"
      },
      "cell_type": "markdown",
      "source": [
        ""
      ]
    },
    {
      "metadata": {
        "id": "YAVgxU-4Cvfz",
        "colab_type": "text"
      },
      "cell_type": "markdown",
      "source": [
        "When we run the code above, we will get the greyscale visualization of the RGB codes as shown below.\n",
        "\n"
      ]
    },
    {
      "metadata": {
        "colab_type": "code",
        "id": "hZVPyxfgNixy",
        "outputId": "7110c6b7-8231-4b79-c72a-4437d4c74379",
        "colab": {
          "base_uri": "https://localhost:8080/",
          "height": 381
        }
      },
      "cell_type": "code",
      "source": [
        "image_index = 6666 # You may select anything up to 60,000\n",
        "print(y_train[image_index]) # The label is 7\n",
        "plt.imshow(X_train[image_index], cmap='Greys')"
      ],
      "execution_count": 0,
      "outputs": [
        {
          "output_type": "stream",
          "text": [
            "7\n"
          ],
          "name": "stdout"
        },
        {
          "output_type": "execute_result",
          "data": {
            "text/plain": [
              "<matplotlib.image.AxesImage at 0x7fa28dc34a90>"
            ]
          },
          "metadata": {
            "tags": []
          },
          "execution_count": 29
        },
        {
          "output_type": "display_data",
          "data": {
            "image/png": "[encoded data removed]",
            "text/plain": [
              "<Figure size 576x396 with 1 Axes>"
            ]
          },
          "metadata": {
            "tags": []
          }
        }
      ]
    },
    {
      "metadata": {
        "id": "WCMrZQS0Cvf8",
        "colab_type": "text"
      },
      "cell_type": "markdown",
      "source": [
        "<h2>Reshaping and Normalizing the Images</h2>\n",
        "To be able to use the dataset in Keras API, we need 4-dims numpy arrays. However, as we see above, our array is 3-dims. In addition, we must normalize our data as it is always required in neural network models. We can achieve this by dividing the RGB codes to 255 (which is the maximum RGB code minus the minimum RGB code). This can be done with the following code:"
      ]
    },
    {
      "metadata": {
        "colab_type": "code",
        "id": "uw7uzgtmhKt0",
        "outputId": "9b607344-0cef-499a-fbf8-c2c12f0404fe",
        "colab": {
          "base_uri": "https://localhost:8080/",
          "height": 51
        }
      },
      "cell_type": "code",
      "source": [
        "X_train = X_train.reshape(X_train.shape[0], 28,28,1)\n",
        "X_test = X_test.reshape(X_test.shape[0],28,28,1)\n",
        "\n",
        "X_train = X_train.astype('float32')\n",
        "X_test = X_test.astype('float32')\n",
        "\n",
        "X_train /= 255\n",
        "X_test /= 255\n",
        "\n",
        "print('Number of images in X_train: ',X_train.shape[0])\n",
        "print('Number of images in X_test: ',X_test.shape[0])\n",
        "\n"
      ],
      "execution_count": 0,
      "outputs": [
        {
          "output_type": "stream",
          "text": [
            "Number of images in X_train:  60000\n",
            "Number of images in X_test:  10000\n"
          ],
          "name": "stdout"
        }
      ]
    },
    {
      "metadata": {
        "id": "gGjNbXhJCvgD",
        "colab_type": "text"
      },
      "cell_type": "markdown",
      "source": [
        "<h2>Building the Convolutional Neural Network</h2>\n",
        "We will build our model by using high level Keras API which uses either TensorFlow or Theano on the backend. I would like to mention that there are several high level TensorFlow APIs such as Layers, Keras, and Estimators which helps us create neural networks with high level knowledge. I will use the most straightforward API which is Keras. Therefore, I will import the Sequential Model from Keras and add Conv2D, MaxPooling, Flatten, Dropout, and Dense layers. I have already talked about Conv2D, Maxpooling, and Dense layers. In addition, Dropout layers fight with the overfitting by disregarding some of the neurons while training while Flatten layers flatten 2D arrays to 1D array before building the fully connected layers."
      ]
    },
    {
      "metadata": {
        "colab_type": "code",
        "id": "KVt7TRbliQAJ",
        "outputId": "7a3d95ed-9c14-4941-ca4b-94a827c7e1e6",
        "colab": {
          "base_uri": "https://localhost:8080/",
          "height": 156
        }
      },
      "cell_type": "code",
      "source": [
        "from keras.models import Sequential\n",
        "from keras.layers import Conv2D,Dense,Dropout,MaxPooling2D,Flatten\n",
        "\n",
        "model = Sequential()\n",
        "model.add(Conv2D(28,kernel_size = (3,3),input_shape = (28,28,1)))\n",
        "model.add(MaxPooling2D(pool_size = (2,2)))\n",
        "model.add(Flatten())\n",
        "model.add(Dense(128,activation = tf.nn.relu))\n",
        "model.add(Dropout(0.2))\n",
        "model.add(Dense(10, activation = tf.nn.softmax))"
      ],
      "execution_count": 0,
      "outputs": [
        {
          "output_type": "stream",
          "text": [
            "WARNING:tensorflow:From /usr/local/lib/python3.6/dist-packages/tensorflow/python/framework/op_def_library.py:263: colocate_with (from tensorflow.python.framework.ops) is deprecated and will be removed in a future version.\n",
            "Instructions for updating:\n",
            "Colocations handled automatically by placer.\n"
          ],
          "name": "stdout"
        },
        {
          "output_type": "stream",
          "text": [
            "Using TensorFlow backend.\n"
          ],
          "name": "stderr"
        },
        {
          "output_type": "stream",
          "text": [
            "WARNING:tensorflow:From /usr/local/lib/python3.6/dist-packages/keras/backend/tensorflow_backend.py:3445: calling dropout (from tensorflow.python.ops.nn_ops) with keep_prob is deprecated and will be removed in a future version.\n",
            "Instructions for updating:\n",
            "Please use `rate` instead of `keep_prob`. Rate should be set to `rate = 1 - keep_prob`.\n"
          ],
          "name": "stdout"
        }
      ]
    },
    {
      "metadata": {
        "id": "hKWZoKFNCvgJ",
        "colab_type": "text"
      },
      "cell_type": "markdown",
      "source": [
        "<h2>Compiling and Fitting the Model</h2>\n",
        "With the above code, we created an non-optimized empty CNN. Now it is time to set an optimizer with a given loss function which uses a metric. Then, we can fit the model by using our train data. We will use the following code for these tasks:"
      ]
    },
    {
      "metadata": {
        "colab_type": "code",
        "id": "rBIBMDTIjJ25",
        "outputId": "29cae888-3dec-4bc8-e021-22369a9f926e",
        "colab": {
          "base_uri": "https://localhost:8080/",
          "height": 445
        }
      },
      "cell_type": "code",
      "source": [
        "model.compile(optimizer  = 'adam',loss = 'sparse_categorical_crossentropy',metrics = ['accuracy'])\n",
        "model.fit(X_train, y_train,epochs = 10)"
      ],
      "execution_count": 0,
      "outputs": [
        {
          "output_type": "stream",
          "text": [
            "WARNING:tensorflow:From /usr/local/lib/python3.6/dist-packages/tensorflow/python/ops/math_ops.py:3066: to_int32 (from tensorflow.python.ops.math_ops) is deprecated and will be removed in a future version.\n",
            "Instructions for updating:\n",
            "Use tf.cast instead.\n",
            "Epoch 1/10\n",
            "60000/60000 [==============================] - 50s 830us/step - loss: 0.2012 - acc: 0.9389\n",
            "Epoch 2/10\n",
            "60000/60000 [==============================] - 49s 812us/step - loss: 0.0802 - acc: 0.9754\n",
            "Epoch 3/10\n",
            "60000/60000 [==============================] - 48s 808us/step - loss: 0.0573 - acc: 0.9821\n",
            "Epoch 4/10\n",
            "60000/60000 [==============================] - 48s 808us/step - loss: 0.0421 - acc: 0.9866\n",
            "Epoch 5/10\n",
            "60000/60000 [==============================] - 49s 817us/step - loss: 0.0333 - acc: 0.9895\n",
            "Epoch 6/10\n",
            "60000/60000 [==============================] - 49s 812us/step - loss: 0.0286 - acc: 0.9903\n",
            "Epoch 7/10\n",
            "60000/60000 [==============================] - 48s 800us/step - loss: 0.0244 - acc: 0.9920\n",
            "Epoch 8/10\n",
            "60000/60000 [==============================] - 48s 799us/step - loss: 0.0207 - acc: 0.9930\n",
            "Epoch 9/10\n",
            "60000/60000 [==============================] - 48s 803us/step - loss: 0.0200 - acc: 0.9929\n",
            "Epoch 10/10\n",
            "60000/60000 [==============================] - 48s 801us/step - loss: 0.0174 - acc: 0.9941\n"
          ],
          "name": "stdout"
        },
        {
          "output_type": "execute_result",
          "data": {
            "text/plain": [
              "<keras.callbacks.History at 0x7fa29668e748>"
            ]
          },
          "metadata": {
            "tags": []
          },
          "execution_count": 9
        }
      ]
    },
    {
      "metadata": {
        "id": "pU1jYllCCvgP",
        "colab_type": "text"
      },
      "cell_type": "markdown",
      "source": [
        "You can experiment with the optimizer, loss function, metrics, and epochs. However, I can say that adam optimizer is usually out-performs the other optimizers. I am not sure if you can actually change the loss function for multi-class classification. Feel free to experiment and comment below. Epoch number might seem a bit small. However, you will reach to 98–99% test accuracy. Since the MNIST dataset does not require heavy computing power, you may easily experiment with the epoch number as well."
      ]
    },
    {
      "metadata": {
        "colab_type": "code",
        "id": "VCQMFgPEjY4i",
        "outputId": "2ddcc2ba-95a8-4a98-f15c-7f660bda425f",
        "colab": {
          "base_uri": "https://localhost:8080/",
          "height": 51
        }
      },
      "cell_type": "code",
      "source": [
        "model.evaluate(X_test,y_test)"
      ],
      "execution_count": 0,
      "outputs": [
        {
          "output_type": "stream",
          "text": [
            "10000/10000 [==============================] - 2s 244us/step\n"
          ],
          "name": "stdout"
        },
        {
          "output_type": "execute_result",
          "data": {
            "text/plain": [
              "[0.06606573488289796, 0.9833]"
            ]
          },
          "metadata": {
            "tags": []
          },
          "execution_count": 10
        }
      ]
    },
    {
      "metadata": {
        "id": "UjX7_piBCvga",
        "colab_type": "text"
      },
      "cell_type": "markdown",
      "source": [
        "We achieved 98.5% accuracy with such basic model. To be frank, in many image classification cases (e.g. for autonomous cars), we cannot even tolerate 0.1% error since, as an analogy, it will cause 1 accident in 1000 cases. However, for our first model, I would say the result is still pretty good. We can also make individual predictions with the following code:"
      ]
    },
    {
      "metadata": {
        "colab_type": "code",
        "id": "gXrIsdORM4ME",
        "outputId": "cd075615-c914-4e70-c51e-cd2afb69bfe0",
        "colab": {
          "base_uri": "https://localhost:8080/",
          "height": 381
        }
      },
      "cell_type": "code",
      "source": [
        "image_index = 4444\n",
        "plt.imshow(X_test[image_index].reshape(28, 28),cmap='Greys')\n",
        "pred = model.predict(X_test[image_index].reshape(1, 28,28, 1))\n",
        "print(\"Predicted value : \", pred.argmax())\n",
        "print(\"Actual value : \", y_test[image_index])"
      ],
      "execution_count": 0,
      "outputs": [
        {
          "output_type": "stream",
          "text": [
            "Predicted value :  9\n",
            "Actual value :  9\n"
          ],
          "name": "stdout"
        },
        {
          "output_type": "display_data",
          "data": {
            "image/png": "[encoded data removed]",
            "text/plain": [
              "<Figure size 576x396 with 1 Axes>"
            ]
          },
          "metadata": {
            "tags": []
          }
        }
      ]
    },
    {
      "metadata": {
        "colab_type": "code",
        "id": "_x2MLwvXQ8PJ",
        "colab": {}
      },
      "cell_type": "code",
      "source": [
        ""
      ],
      "execution_count": 0,
      "outputs": []
    }
  ]
}